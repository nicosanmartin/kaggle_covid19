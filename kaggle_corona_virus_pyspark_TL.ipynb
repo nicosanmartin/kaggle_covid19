{
 "cells": [
  {
   "cell_type": "markdown",
   "id": "04a2231a",
   "metadata": {},
   "source": [
    "## Titulo: N5 Now - Challenge Técnico \n",
    "\n",
    "<br>\n",
    "\n",
    "#### Autor: Nicolas San Martin\n",
    "\n",
    "<br> \n",
    "\n",
    "#### Descripción: el desarrollo actual proporciona dos formas de abordar el siguiente punto del challenge: 'Cargar los datasets utilizando Spark y mantenerlos en formato parquet'. La primer parte se hará mediante el uso de Dataframe's, y la segunda, un ejemplo de como tratar uno de los archivos con RDD's.\n",
    "\n",
    "<br>\n",
    "\n",
    "#### Consideraciones iniciales previo al comienzo del desarrollo:\n",
    "<br>\n",
    "\n",
    "- Para cada uno de los esquemas definidos en los Dataframe's, no se hace validación de los datos, como por ejemplo, que una columna no tenga valores nulos (a través del párametro nullable), así como tampoco la adición de metadata.\n",
    "\n",
    "- Si bien en la descripción del challenge se especifica que los datos deben ser tratados en la última capa, de todas formas se proporciona una manera por la cual los datasets pueden ser leidos especificando el esquema previamente.\n",
    "\n",
    "- No se realiza manejo de excepciones.\n",
    "\n",
    "- No se realiza limpieza de los nombres de las columnas."
   ]
  },
  {
   "cell_type": "code",
   "execution_count": 1,
   "id": "ae7660ec",
   "metadata": {},
   "outputs": [
    {
     "data": {
      "text/plain": [
       "'C:\\\\spark-3.4.1-bin-hadoop3'"
      ]
     },
     "execution_count": 1,
     "metadata": {},
     "output_type": "execute_result"
    }
   ],
   "source": [
    "import findspark\n",
    "findspark.init()\n",
    "findspark.find()"
   ]
  },
  {
   "cell_type": "code",
   "execution_count": 2,
   "id": "1d85b895",
   "metadata": {},
   "outputs": [],
   "source": [
    "import pyspark\n",
    "from pyspark.sql import SparkSession\n",
    "from pyspark.sql.types import StructField, LongType, IntegerType, FloatType, DoubleType, TimestampType, BooleanType, StringType, DateType, StructType\n",
    "from pyspark.sql.functions import col, to_date"
   ]
  },
  {
   "cell_type": "code",
   "execution_count": 3,
   "id": "91469f64",
   "metadata": {},
   "outputs": [],
   "source": [
    "app_name = \"challenge_tecnico_n5\"\n",
    "partitions_number = 3 "
   ]
  },
  {
   "cell_type": "code",
   "execution_count": 4,
   "id": "3ddb6ecf",
   "metadata": {},
   "outputs": [],
   "source": [
    "spark = SparkSession.builder \\\n",
    "    .appName(app_name) \\\n",
    "    .config(\"spark.sql.shuffle.partitions\", partitions_number) \\\n",
    "    .getOrCreate()"
   ]
  },
  {
   "cell_type": "markdown",
   "id": "42b4d6b3",
   "metadata": {},
   "source": [
    "## Alternativa 1: Desarrollo con Dataframe's"
   ]
  },
  {
   "cell_type": "markdown",
   "id": "8fd608e2",
   "metadata": {},
   "source": [
    "#### Definición de rutas\n",
    "\n",
    "###### Se define la ruta del 'datalake' donde se almacenan los datos de covid, y los nombres de los archivos en caso de que en otro paso del desarrollo sea necesaria la reutilización."
   ]
  },
  {
   "cell_type": "code",
   "execution_count": 5,
   "id": "7b23f037",
   "metadata": {},
   "outputs": [],
   "source": [
    "path_datalake = \"input/datalake/kaggle/covid\"\n",
    "\n",
    "file_name_country_wise_latest = \"country_wise_latest\"\n",
    "file_name_covid_19_clean_complete_df = \"covid_19_clean_complete\"\n",
    "file_name_day_wise_df = \"day_wise\"\n",
    "file_name_full_grouped_df = \"full_grouped\"\n",
    "file_name_usa_county_wise_df = \"usa_county_wise\"\n",
    "file_name_worldometer_data_df = \"worldometer_data\""
   ]
  },
  {
   "cell_type": "markdown",
   "id": "644cb79e",
   "metadata": {},
   "source": [
    "#### Lectura de archivos csv\n",
    "\n",
    "###### Siguiendo los lineamientos definidos en la descripción del challenge, en esta etapa no se tratan los tipos de datos de cada uno de los archivos, sino que se realiza el casteo de los datos posteriormente.- Por eso, al parametro inferSchema no le paso el esquema y lo dejo en false."
   ]
  },
  {
   "cell_type": "code",
   "execution_count": 6,
   "id": "c83dd141",
   "metadata": {},
   "outputs": [],
   "source": [
    "country_wise_latest_df = spark.read.csv(f\"{path_datalake}/{file_name_country_wise_latest}.csv\", \\\n",
    "                                        header = True, \\\n",
    "                                        inferSchema = False) \n",
    "\n",
    "covid_19_clean_complete_df = spark.read.csv(f\"{path_datalake}/{file_name_covid_19_clean_complete_df}.csv\", \\\n",
    "                                            header = True, \\\n",
    "                                            inferSchema = True)\n",
    "\n",
    "day_wise_df = spark.read.csv(f\"{path_datalake}/{file_name_day_wise_df}.csv\", \\\n",
    "                             header = True, \\\n",
    "                             inferSchema = True)\n",
    "\n",
    "full_grouped_df = spark.read.csv(f\"{path_datalake}/{file_name_full_grouped_df}.csv\", \\\n",
    "                                 header = True, \\\n",
    "                                 inferSchema = True)\n",
    "\n",
    "usa_county_wise_df = spark.read.csv(f\"{path_datalake}/{file_name_usa_county_wise_df}.csv\", \\\n",
    "                                    header = True, \\\n",
    "                                    inferSchema = True)\n",
    "\n",
    "worldometer_data_df = spark.read.csv(f\"{path_datalake}/{file_name_worldometer_data_df}.csv\", \\\n",
    "                                     header = True, \\\n",
    "                                     inferSchema = True)"
   ]
  },
  {
   "cell_type": "markdown",
   "id": "e0581558",
   "metadata": {},
   "source": [
    "#### Repartición en particiones"
   ]
  },
  {
   "cell_type": "code",
   "execution_count": 7,
   "id": "2cb28632",
   "metadata": {},
   "outputs": [],
   "source": [
    "country_wise_latest_df = country_wise_latest_df.repartition(partitions_number)\n",
    "covid_19_clean_complete_df = covid_19_clean_complete_df.repartition(partitions_number)\n",
    "day_wise_df = day_wise_df.repartition(partitions_number)\n",
    "full_grouped_df = full_grouped_df.repartition(partitions_number)\n",
    "usa_county_wise_df = usa_county_wise_df.repartition(partitions_number)\n",
    "worldometer_data_df = worldometer_data_df.repartition(partitions_number)"
   ]
  },
  {
   "cell_type": "markdown",
   "id": "e4014541",
   "metadata": {},
   "source": [
    "#### Validación de lectura "
   ]
  },
  {
   "cell_type": "code",
   "execution_count": 8,
   "id": "d647995e",
   "metadata": {},
   "outputs": [
    {
     "data": {
      "text/plain": [
       "DataFrame[Country/Region: string, Confirmed: string, Deaths: string, Recovered: string, Active: string, New cases: string, New deaths: string, New recovered: string, Deaths / 100 Cases: string, Recovered / 100 Cases: string, Deaths / 100 Recovered: string, Confirmed last week: string, 1 week change: string, 1 week % increase: string, WHO Region: string]"
      ]
     },
     "execution_count": 8,
     "metadata": {},
     "output_type": "execute_result"
    }
   ],
   "source": [
    "country_wise_latest_df"
   ]
  },
  {
   "cell_type": "code",
   "execution_count": 9,
   "id": "7e173512",
   "metadata": {},
   "outputs": [
    {
     "data": {
      "text/plain": [
       "DataFrame[Province/State: string, Country/Region: string, Lat: double, Long: double, Date: date, Confirmed: int, Deaths: int, Recovered: int, Active: int, WHO Region: string]"
      ]
     },
     "execution_count": 9,
     "metadata": {},
     "output_type": "execute_result"
    }
   ],
   "source": [
    "covid_19_clean_complete_df"
   ]
  },
  {
   "cell_type": "code",
   "execution_count": 10,
   "id": "efc9cb34",
   "metadata": {},
   "outputs": [
    {
     "data": {
      "text/plain": [
       "DataFrame[Date: date, Confirmed: int, Deaths: int, Recovered: int, Active: int, New cases: int, New deaths: int, New recovered: int, Deaths / 100 Cases: double, Recovered / 100 Cases: double, Deaths / 100 Recovered: double, No. of countries: int]"
      ]
     },
     "execution_count": 10,
     "metadata": {},
     "output_type": "execute_result"
    }
   ],
   "source": [
    "day_wise_df"
   ]
  },
  {
   "cell_type": "code",
   "execution_count": 11,
   "id": "32aab484",
   "metadata": {},
   "outputs": [
    {
     "data": {
      "text/plain": [
       "DataFrame[Date: date, Country/Region: string, Confirmed: int, Deaths: int, Recovered: int, Active: int, New cases: int, New deaths: int, New recovered: int, WHO Region: string]"
      ]
     },
     "execution_count": 11,
     "metadata": {},
     "output_type": "execute_result"
    }
   ],
   "source": [
    "full_grouped_df"
   ]
  },
  {
   "cell_type": "code",
   "execution_count": 12,
   "id": "88521018",
   "metadata": {},
   "outputs": [
    {
     "data": {
      "text/plain": [
       "DataFrame[UID: int, iso2: string, iso3: string, code3: int, FIPS: double, Admin2: string, Province_State: string, Country_Region: string, Lat: double, Long_: double, Combined_Key: string, Date: string, Confirmed: int, Deaths: int]"
      ]
     },
     "execution_count": 12,
     "metadata": {},
     "output_type": "execute_result"
    }
   ],
   "source": [
    "usa_county_wise_df"
   ]
  },
  {
   "cell_type": "code",
   "execution_count": 13,
   "id": "5d9b8757",
   "metadata": {
    "scrolled": true
   },
   "outputs": [
    {
     "data": {
      "text/plain": [
       "DataFrame[Country/Region: string, Continent: string, Population: int, TotalCases: int, NewCases: int, TotalDeaths: int, NewDeaths: int, TotalRecovered: int, NewRecovered: int, ActiveCases: int, Serious,Critical: int, Tot Cases/1M pop: int, Deaths/1M pop: double, TotalTests: int, Tests/1M pop: int, WHO Region: string]"
      ]
     },
     "execution_count": 13,
     "metadata": {},
     "output_type": "execute_result"
    }
   ],
   "source": [
    "worldometer_data_df"
   ]
  },
  {
   "cell_type": "markdown",
   "id": "06c8f4fe",
   "metadata": {},
   "source": [
    "#### Definición de esquemas de datos\n",
    "\n",
    "###### Si bien no se usarán los esquemas, se definen a modo de ejemplo."
   ]
  },
  {
   "cell_type": "code",
   "execution_count": 14,
   "id": "7291470b",
   "metadata": {},
   "outputs": [],
   "source": [
    "optional_schema_country_wise_latest = StructType([\n",
    "    StructField(\"Country/Region\", StringType(), True),\n",
    "    StructField(\"Confirmed\", IntegerType(), True),\n",
    "    StructField(\"Deaths\", IntegerType(), True),\n",
    "    StructField(\"Recovered\", IntegerType(), True),\n",
    "    StructField(\"Active\", IntegerType(), True),\n",
    "    StructField(\"New cases\", IntegerType(), True),\n",
    "    StructField(\"New deaths\", IntegerType(), True),\n",
    "    StructField(\"New recovered\", IntegerType(), True),\n",
    "    StructField(\"Deaths / 100 Cases\", FloatType(), True),\n",
    "    StructField(\"Recovered / 100 Cases\", FloatType(), True),\n",
    "    StructField(\"Deaths / 100 Recovered\", FloatType(), True),\n",
    "    StructField(\"Confirmed last week\", IntegerType(), True),\n",
    "    StructField(\"1 week change\", IntegerType(), True),\n",
    "    StructField(\"1 week % increase\", FloatType(), True),\n",
    "    StructField(\"WHO Region\", StringType(), True)\n",
    "])"
   ]
  },
  {
   "cell_type": "code",
   "execution_count": 15,
   "id": "a7b13c1d",
   "metadata": {},
   "outputs": [],
   "source": [
    "optional_schema_covid_19_clean_complete = StructType([\n",
    "    StructField(\"Province/State\", StringType(), True),\n",
    "    StructField(\"Country/Region\", StringType(), True),\n",
    "    StructField(\"Lat\", DoubleType(), True),\n",
    "    StructField(\"Long\", DoubleType(), True),\n",
    "    StructField(\"Date\", DateType(), True),\n",
    "    StructField(\"Confirmed\", IntegerType(), True),\n",
    "    StructField(\"Deaths\", IntegerType(), True),\n",
    "    StructField(\"Recovered\", IntegerType(), True),\n",
    "    StructField(\"Active\", IntegerType(), True),\n",
    "    StructField(\"WHO Region\", StringType(), True)\n",
    "])"
   ]
  },
  {
   "cell_type": "code",
   "execution_count": 16,
   "id": "06e2261e",
   "metadata": {},
   "outputs": [],
   "source": [
    "optional_schema_day_wise = StructType([\n",
    "    StructField(\"Date\", DateType(), True), # Esta fecha tiene otro formato d/M/yy\n",
    "    StructField(\"Confirmed\", IntegerType(), True),\n",
    "    StructField(\"Deaths\", IntegerType(), True),\n",
    "    StructField(\"Recovered\", IntegerType(), True),\n",
    "    StructField(\"Active\", IntegerType(), True),\n",
    "    StructField(\"New cases\", IntegerType(), True),\n",
    "    StructField(\"New deaths\", FloatType(), True), # La cantidad de significativos es 2, por eso no coloco Double.\n",
    "    StructField(\"New recovered\", IntegerType(), True),\n",
    "    StructField(\"Deaths / 100 Cases\", FloatType(), True),\n",
    "    StructField(\"Recovered / 100 Cases\", FloatType(), True),\n",
    "    StructField(\"Deaths / 100 Recovered\", FloatType(), True),\n",
    "    StructField(\"No. of countries\", IntegerType(), True)\n",
    "])"
   ]
  },
  {
   "cell_type": "code",
   "execution_count": 17,
   "id": "e357b82b",
   "metadata": {},
   "outputs": [],
   "source": [
    "optional_schema_full_grouped = StructType([\n",
    "    StructField(\"Date\", DateType(), True),\n",
    "    StructField(\"Country/Region\", StringType(), True),\n",
    "    StructField(\"Confirmed\", IntegerType(), True),\n",
    "    StructField(\"Deaths\", IntegerType(), True),\n",
    "    StructField(\"Recovered\", IntegerType(), True),\n",
    "    StructField(\"Active\", IntegerType(), True),\n",
    "    StructField(\"New cases\", IntegerType(), True),\n",
    "    StructField(\"New deaths\", IntegerType(), True),\n",
    "    StructField(\"New recovered\", IntegerType(), True),\n",
    "    StructField(\"WHO Region\", StringType(), True)\n",
    "])"
   ]
  },
  {
   "cell_type": "code",
   "execution_count": 18,
   "id": "1b4ad186",
   "metadata": {},
   "outputs": [],
   "source": [
    "''' En este caso, para los atributos latitud y longitud, \n",
    "    decidi considerar utilizar Double en lugar de Float dado la cantidad de digitos significativos que se pueden observar en los registros.\n",
    "'''\n",
    "optional_schema_usa_county_wise = StructType([\n",
    "    StructField(\"UID\", IntegerType(), True),\n",
    "    StructField(\"iso2\", StringType(), True),\n",
    "    StructField(\"iso3\", StringType(), True),\n",
    "    StructField(\"code3\", IntegerType(), True),\n",
    "    StructField(\"FIPS\", IntegerType(), True),\n",
    "    StructField(\"Admin2\", StringType(), True),\n",
    "    StructField(\"Province_State\", StringType(), True),\n",
    "    StructField(\"Country_Region\", StringType(), True),\n",
    "    StructField(\"Lat\", DoubleType(), True),\n",
    "    StructField(\"Long_\", DoubleType(), True),\n",
    "    StructField(\"Combined_Key\", StringType(), True),\n",
    "    StructField(\"Date\", DateType(), True), # Dado que el formato de fecha es M/d/yy, es probable que necesite tratarse más adelante\n",
    "    StructField(\"Confirmed\", IntegerType(), True),\n",
    "    StructField(\"Deaths\", IntegerType(), True)\n",
    "])"
   ]
  },
  {
   "cell_type": "code",
   "execution_count": 19,
   "id": "7b8660e5",
   "metadata": {},
   "outputs": [],
   "source": [
    "optional_schema_worldometer_data = StructType([\n",
    "    StructField(\"Country/Region\", StringType(), True), \n",
    "    StructField(\"Continent\", StringType(), True),\n",
    "    StructField(\"Population\", IntegerType(), True), \n",
    "    StructField(\"TotalCases\", IntegerType(), True), \n",
    "    StructField(\"NewCases\", IntegerType(), True), \n",
    "    StructField(\"TotalDeaths\", IntegerType(), True), \n",
    "    StructField(\"NewDeaths\", IntegerType(), True), \n",
    "    StructField(\"TotalRecovered\", IntegerType(), True), \n",
    "    StructField(\"NewRecovered\", IntegerType(), True),  \n",
    "    StructField(\"ActiveCases\", IntegerType(), True), \n",
    "    StructField(\"Serious,Critical\", IntegerType(), True),  \n",
    "    StructField(\"Tot Cases/1M pop\", IntegerType(), True), \n",
    "    StructField(\"Deaths/1M pop\", IntegerType(), True),  \n",
    "    StructField(\"TotalTests\", IntegerType(), True), \n",
    "    StructField(\"Tests/1M pop\", IntegerType(), True),  \n",
    "    StructField(\"WHO Region\", StringType(), True),  \n",
    "])"
   ]
  },
  {
   "cell_type": "markdown",
   "id": "06faaaa5",
   "metadata": {},
   "source": [
    "#### Transformación de datos"
   ]
  },
  {
   "cell_type": "code",
   "execution_count": 20,
   "id": "811c0c6d",
   "metadata": {},
   "outputs": [],
   "source": [
    "df_country_wise_latest_t = country_wise_latest_df.select(\n",
    "    col(\"Country/Region\"),\n",
    "    col(\"Confirmed\").cast(IntegerType()).alias(\"Confirmed\"),\n",
    "    col(\"Deaths\").cast(IntegerType()).alias(\"Deaths\"),\n",
    "    col(\"Recovered\").cast(IntegerType()).alias(\"Recovered\"),\n",
    "    col(\"Active\").cast(IntegerType()).alias(\"Active\"),\n",
    "    col(\"New cases\").cast(IntegerType()).alias(\"New cases\"),\n",
    "    col(\"New deaths\").cast(IntegerType()).alias(\"New deaths\"),\n",
    "    col(\"New recovered\").cast(IntegerType()).alias(\"New recovered\"),\n",
    "    col(\"Deaths / 100 Cases\").cast(FloatType()).alias(\"Deaths / 100 Cases\"),\n",
    "    col(\"Recovered / 100 Cases\").cast(FloatType()).alias(\"Recovered / 100 Cases\"),\n",
    "    col(\"Deaths / 100 Recovered\").cast(FloatType()).alias(\"Deaths / 100 Recovered\"),\n",
    "    col(\"Confirmed last week\").cast(IntegerType()).alias(\"Confirmed last week\"),\n",
    "    col(\"1 week change\").cast(IntegerType()).alias(\"1 week change\"),\n",
    "    col(\"1 week % increase\").cast(FloatType()).alias(\"1 week % increase\"),\n",
    "    col(\"WHO Region\")\n",
    ")"
   ]
  },
  {
   "cell_type": "code",
   "execution_count": 21,
   "id": "94599da2",
   "metadata": {},
   "outputs": [],
   "source": [
    "df_covid_19_clean_complete_t = covid_19_clean_complete_df.select(\n",
    "    col(\"Province/State\"),\n",
    "    col(\"Country/Region\"),\n",
    "    col(\"Lat\").cast(DoubleType()).alias(\"Lat\"),\n",
    "    col(\"Long\").cast(DoubleType()).alias(\"Long\"),\n",
    "    col(\"Date\").cast(DateType()).alias(\"Date\"),\n",
    "    col(\"Confirmed\").cast(IntegerType()).alias(\"Confirmed\"),\n",
    "    col(\"Deaths\").cast(IntegerType()).alias(\"Deaths\"),\n",
    "    col(\"Recovered\").cast(IntegerType()).alias(\"Recovered\"),\n",
    "    col(\"Active\").cast(IntegerType()).alias(\"Active\"),\n",
    "    col(\"WHO Region\")\n",
    ")"
   ]
  },
  {
   "cell_type": "code",
   "execution_count": 22,
   "id": "c37cad52",
   "metadata": {},
   "outputs": [],
   "source": [
    "df_day_wise_t = day_wise_df.select(\n",
    "    to_date(col(\"Date\"), \"d/M/yy\").alias(\"Date\"),  \n",
    "    col(\"Confirmed\").cast(IntegerType()).alias(\"Confirmed\"),\n",
    "    col(\"Deaths\").cast(IntegerType()).alias(\"Deaths\"),\n",
    "    col(\"Recovered\").cast(IntegerType()).alias(\"Recovered\"),\n",
    "    col(\"Active\").cast(IntegerType()).alias(\"Active\"),\n",
    "    col(\"New cases\").cast(IntegerType()).alias(\"New cases\"),\n",
    "    col(\"New deaths\").cast(FloatType()).alias(\"New deaths\"),\n",
    "    col(\"New recovered\").cast(IntegerType()).alias(\"New recovered\"),\n",
    "    col(\"Deaths / 100 Cases\").cast(FloatType()).alias(\"Deaths / 100 Cases\"),\n",
    "    col(\"Recovered / 100 Cases\").cast(FloatType()).alias(\"Recovered / 100 Cases\"),\n",
    "    col(\"Deaths / 100 Recovered\").cast(FloatType()).alias(\"Deaths / 100 Recovered\"),\n",
    "    col(\"`No. of countries`\").cast(IntegerType()).alias(\"No. of countries\")\n",
    ")\n"
   ]
  },
  {
   "cell_type": "code",
   "execution_count": 23,
   "id": "1a6d8cf4",
   "metadata": {},
   "outputs": [],
   "source": [
    "df_full_grouped_t = full_grouped_df.select(\n",
    "    to_date(col(\"Date\"), \"d/M/yy\").alias(\"Date\"),  \n",
    "    col(\"Country/Region\"),\n",
    "    col(\"Confirmed\").cast(IntegerType()).alias(\"Confirmed\"),\n",
    "    col(\"Deaths\").cast(IntegerType()).alias(\"Deaths\"),\n",
    "    col(\"Recovered\").cast(IntegerType()).alias(\"Recovered\"),\n",
    "    col(\"Active\").cast(IntegerType()).alias(\"Active\"),\n",
    "    col(\"New cases\").cast(IntegerType()).alias(\"New cases\"),\n",
    "    col(\"New deaths\").cast(IntegerType()).alias(\"New deaths\"),\n",
    "    col(\"New recovered\").cast(IntegerType()).alias(\"New recovered\"),\n",
    "    col(\"WHO Region\")\n",
    ")"
   ]
  },
  {
   "cell_type": "code",
   "execution_count": 24,
   "id": "822a37e6",
   "metadata": {},
   "outputs": [],
   "source": [
    "df_usa_county_wise_t = usa_county_wise_df.select(\n",
    "    col(\"UID\").cast(IntegerType()).alias(\"UID\"),\n",
    "    col(\"iso2\"),\n",
    "    col(\"iso3\"),\n",
    "    col(\"code3\").cast(IntegerType()).alias(\"code3\"),\n",
    "    col(\"FIPS\").cast(IntegerType()).alias(\"FIPS\"),\n",
    "    col(\"Admin2\"),\n",
    "    col(\"Province_State\"),\n",
    "    col(\"Country_Region\"),\n",
    "    col(\"Lat\").cast(DoubleType()).alias(\"Lat\"),\n",
    "    col(\"Long_\").cast(DoubleType()).alias(\"Long_\"),\n",
    "    col(\"Combined_Key\"),\n",
    "    to_date(col(\"Date\"), \"M/d/yy\").alias(\"Date\"), \n",
    "    col(\"Confirmed\").cast(IntegerType()).alias(\"Confirmed\"),\n",
    "    col(\"Deaths\").cast(IntegerType()).alias(\"Deaths\")\n",
    ")"
   ]
  },
  {
   "cell_type": "code",
   "execution_count": 25,
   "id": "ad37fb81",
   "metadata": {},
   "outputs": [],
   "source": [
    "df_worldometer_data_t = worldometer_data_df.select(\n",
    "    col(\"Country/Region\"),\n",
    "    col(\"Continent\"),\n",
    "    col(\"Population\").cast(IntegerType()).alias(\"Population\"),\n",
    "    col(\"TotalCases\").cast(IntegerType()).alias(\"TotalCases\"),\n",
    "    col(\"NewCases\").cast(IntegerType()).alias(\"NewCases\"),\n",
    "    col(\"TotalDeaths\").cast(IntegerType()).alias(\"TotalDeaths\"),\n",
    "    col(\"NewDeaths\").cast(IntegerType()).alias(\"NewDeaths\"),\n",
    "    col(\"TotalRecovered\").cast(IntegerType()).alias(\"TotalRecovered\"),\n",
    "    col(\"NewRecovered\").cast(IntegerType()).alias(\"NewRecovered\"),\n",
    "    col(\"ActiveCases\").cast(IntegerType()).alias(\"ActiveCases\"),\n",
    "    col(\"Serious,Critical\").cast(IntegerType()).alias(\"Serious_Critical\"),  \n",
    "    col(\"Tot Cases/1M pop\").cast(IntegerType()).alias(\"Tot_Cases_1M_pop\"),  \n",
    "    col(\"Deaths/1M pop\").cast(IntegerType()).alias(\"Deaths_1M_pop\"),  \n",
    "    col(\"TotalTests\").cast(IntegerType()).alias(\"TotalTests\"),\n",
    "    col(\"Tests/1M pop\").cast(IntegerType()).alias(\"Tests_1M_pop\"), \n",
    "    col(\"WHO Region\")\n",
    ")"
   ]
  },
  {
   "cell_type": "markdown",
   "id": "83829e7e",
   "metadata": {},
   "source": [
    "#### Persistencia de archivos en formato parquet"
   ]
  },
  {
   "cell_type": "code",
   "execution_count": 26,
   "id": "f650cb79",
   "metadata": {},
   "outputs": [],
   "source": [
    "path_output = \"output/kaggle/pyspark\""
   ]
  },
  {
   "cell_type": "code",
   "execution_count": 27,
   "id": "1194314b",
   "metadata": {},
   "outputs": [],
   "source": [
    "df_usa_county_wise_t.write.mode(\"overwrite\").parquet(f\"{path_output}/{file_name_usa_county_wise_df}/\")"
   ]
  },
  {
   "cell_type": "code",
   "execution_count": 28,
   "id": "5464c33a",
   "metadata": {},
   "outputs": [],
   "source": [
    "df_day_wise_t.write.mode(\"overwrite\").parquet(f\"{path_output}/{file_name_day_wise_df}/\")"
   ]
  },
  {
   "cell_type": "code",
   "execution_count": 29,
   "id": "1fbb2d20",
   "metadata": {},
   "outputs": [],
   "source": [
    "df_country_wise_latest_t.write.mode(\"overwrite\").parquet(f\"{path_output}/{file_name_country_wise_latest}/\")"
   ]
  },
  {
   "cell_type": "code",
   "execution_count": 30,
   "id": "6250bddb",
   "metadata": {},
   "outputs": [],
   "source": [
    "df_full_grouped_t.write.mode(\"overwrite\").parquet(f\"{path_output}/{file_name_full_grouped_df}/\")"
   ]
  },
  {
   "cell_type": "code",
   "execution_count": 31,
   "id": "1c67240f",
   "metadata": {},
   "outputs": [],
   "source": [
    "df_covid_19_clean_complete_t.write.mode(\"overwrite\").parquet(f\"{path_output}/{file_name_covid_19_clean_complete_df}/\")"
   ]
  },
  {
   "cell_type": "code",
   "execution_count": 32,
   "id": "533b5748",
   "metadata": {},
   "outputs": [],
   "source": [
    "df_worldometer_data_t.write.mode(\"overwrite\").parquet(f\"{path_output}/{file_name_worldometer_data_df}/\")"
   ]
  },
  {
   "cell_type": "markdown",
   "id": "52ace501",
   "metadata": {},
   "source": [
    "## Alternativa 2: Ejemplo de desarrollo con RDD's\n",
    "\n",
    "No se realiza de forma completa, es a modo de ejemplo."
   ]
  },
  {
   "cell_type": "code",
   "execution_count": 33,
   "id": "90ae9a28",
   "metadata": {},
   "outputs": [],
   "source": [
    "rdd_country_wise_latest = spark.sparkContext.textFile(f\"{path_datalake}/{file_name_country_wise_latest}.csv\")\n",
    "\n",
    "rdd_covid_19_clean_complete = spark.sparkContext.textFile(f\"{path_datalake}/{file_name_covid_19_clean_complete_df}.csv\")\n",
    "\n",
    "rdd_day_wise = spark.sparkContext.textFile(f\"{path_datalake}/{file_name_day_wise_df}.csv\")\n",
    "\n",
    "rdd_full_grouped = spark.sparkContext.textFile(f\"{path_datalake}/{file_name_full_grouped_df}.csv\")\n",
    "\n",
    "rdd_usa_county_wise = spark.sparkContext.textFile(f\"{path_datalake}/{file_name_usa_county_wise_df}.csv\")\n",
    "\n",
    "rdd_worldometer_data = spark.sparkContext.textFile(f\"{path_datalake}/{file_name_worldometer_data_df}.csv\")"
   ]
  },
  {
   "cell_type": "code",
   "execution_count": 34,
   "id": "3f015485",
   "metadata": {},
   "outputs": [],
   "source": [
    "# Realizo un split de las filas del archivo separadas por , para poder tratarlas\n",
    "rdd_country_wise_latest_transformed = rdd_country_wise_latest.map(lambda line: line.split(','))"
   ]
  },
  {
   "cell_type": "code",
   "execution_count": 35,
   "id": "2757706c",
   "metadata": {},
   "outputs": [],
   "source": [
    "# Guardo el header para que quede exceluido de la transformación de datos\n",
    "header_rdd_country_wise_latest_transformed = rdd_country_wise_latest_transformed.first()  "
   ]
  },
  {
   "cell_type": "code",
   "execution_count": 36,
   "id": "a3547cc7",
   "metadata": {},
   "outputs": [],
   "source": [
    "# Excluyo el header\n",
    "rdd_country_wise_latest_filtered = rdd_country_wise_latest_transformed.filter(lambda line: line != header_rdd_country_wise_latest_transformed)  "
   ]
  },
  {
   "cell_type": "code",
   "execution_count": 37,
   "id": "38496f3b",
   "metadata": {},
   "outputs": [],
   "source": [
    "def cast_values_country_wise_latest(row):\n",
    "    return (\n",
    "        row[0],  # Columna Country/Region \n",
    "        int(row[1]), # Columna  Confirmed \n",
    "        int(row[2]), # Columna  Deaths \n",
    "        int(row[3]), # Columna  Recovered \n",
    "        int(row[4]), # Columna  Active \n",
    "        int(row[5]), # Columna  New cases \n",
    "        int(row[6]), # Columna  New deaths \n",
    "        int(row[7]), # Columna  New recovered \n",
    "        float(row[8]), # Columna Deaths / 100 Cases \n",
    "        float(row[9]), # Columna Recovered / 100 Cases \n",
    "        float(row[10]), # Columna Deaths / 100 Recovered \n",
    "        int(row[11]), # Columna Confirmed last week \n",
    "        int(row[12]), # Columna 1 week change \n",
    "        float(row[13]), # Columna 1 week % increase \n",
    "        row[14]  # Columna  WHO Region \n",
    "    )"
   ]
  },
  {
   "cell_type": "code",
   "execution_count": 38,
   "id": "6fdc8fba",
   "metadata": {},
   "outputs": [],
   "source": [
    "#Casteo de datos\n",
    "rdd_country_wise_latest_casted = rdd_country_wise_latest_filtered.map(cast_values_country_wise_latest)"
   ]
  },
  {
   "cell_type": "markdown",
   "id": "8682e6af",
   "metadata": {},
   "source": [
    "#### Persistencia de los datos"
   ]
  },
  {
   "cell_type": "code",
   "execution_count": 39,
   "id": "e34001e3",
   "metadata": {
    "scrolled": true
   },
   "outputs": [],
   "source": [
    "df_country_wise_latest = rdd_country_wise_latest_casted.toDF(header_rdd_country_wise_latest_transformed)"
   ]
  },
  {
   "cell_type": "code",
   "execution_count": 40,
   "id": "fa11f80c",
   "metadata": {},
   "outputs": [],
   "source": [
    "df_country_wise_latest.write.mode(\"overwrite\").parquet(f\"{path_output}/rdd/{file_name_country_wise_latest}/\")"
   ]
  }
 ],
 "metadata": {
  "kernelspec": {
   "display_name": "pyspark-env",
   "language": "python",
   "name": "pyspark-env"
  },
  "language_info": {
   "codemirror_mode": {
    "name": "ipython",
    "version": 3
   },
   "file_extension": ".py",
   "mimetype": "text/x-python",
   "name": "python",
   "nbconvert_exporter": "python",
   "pygments_lexer": "ipython3",
   "version": "3.11.4"
  }
 },
 "nbformat": 4,
 "nbformat_minor": 5
}
